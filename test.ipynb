{
 "cells": [
  {
   "cell_type": "code",
   "execution_count": 2,
   "metadata": {},
   "outputs": [],
   "source": [
    "import matplotlib.pyplot as plt\n",
    "%config InlineBackend.figure_format = 'svg'\n",
    "\n",
    "import TCTJE as TRDD"
   ]
  },
  {
   "cell_type": "code",
   "execution_count": 5,
   "metadata": {},
   "outputs": [],
   "source": [
    "M_n = 0.7 # Число М полета\n",
    "H = 1500 # Высота полета, м\n",
    "P = 4e3 # Тяга, Н\n",
    "sigma_vh = 0.97 # К-т восстановления полного давления во вх. устройстве\n",
    "pi_v_zv = 1.9 # Степень повышения давления в вентиляторе\n",
    "eta_v = 0.835 # КПД вентилятора\n",
    "pi_k_zv = 12.5 # Степень повышения полного давления воздуха в компрессоре\n",
    "eta_k = 0.8 # КПД компрессора\n",
    "sigma_kc = 0.95 # К-т восстановления полного давления в основной камере сгорания\n",
    "T_g_zv = 1700 # Температура торможения за камерой сгорания, К\n",
    "eta_g = 0.99 # К-т полноты сгорания в основной камере\n",
    "eta_tk_zv = 0.93 #  КПД турбины компрессора\n",
    "delta_otb = 0.03 # Доля воздуха, отбираемого на охлаждение турбины\n",
    "eta_mk = 0.995 # Механические КПД турбины компрессора\n",
    "eta_tv_zv = 0.995 # КПД турбины вентилятора\n",
    "eta_mv = 0.995 # Механический КПД турбины вентилятора\n",
    "m = 3 # Степень двухконтурности\n",
    "sigma_II = 0.960 # К-т восстановления полного давления в наружном контуре\n",
    "phi_cI = 0.985 # К-т скорости при истечении из сопла внутреннего контура\n",
    "phi_cII = 0.98 # К-т скорости при истечении из сопла наружного контура\n",
    "H_u = 42900 # Удельная теплота сгорания керосина, кДж/кг\n",
    "YEAR = 2023 # Год начала летных испытаний двигателя"
   ]
  },
  {
   "cell_type": "code",
   "execution_count": 32,
   "metadata": {},
   "outputs": [],
   "source": [
    "# Словарь исходных данных для расчета\n",
    "init = {'M_n': M_n,\n",
    "        'H': H,\n",
    "        'P': 4000,\n",
    "        'sigma_vh': sigma_vh,\n",
    "        'pi_v_zv': pi_v_zv,\n",
    "        'eta_v': eta_v,\n",
    "        'pi_k_zv': pi_k_zv,\n",
    "        'eta_k': eta_k,\n",
    "        'sigma_kc': sigma_kc,\n",
    "        'T_g_zv': 1400,\n",
    "        'eta_g': eta_g,\n",
    "        'eta_tk_zv': eta_tk_zv,\n",
    "        'delta_otb': delta_otb,\n",
    "        'eta_mk': eta_mk,\n",
    "        'eta_tv_zv': eta_tv_zv,\n",
    "        'eta_mv': eta_mv,\n",
    "        'm': m,\n",
    "        'sigma_II': sigma_II,\n",
    "        'phi_cI': phi_cI,\n",
    "        'phi_cII': phi_cII,\n",
    "        'H_u': H_u,\n",
    "        'YEAR': YEAR}"
   ]
  },
  {
   "cell_type": "code",
   "execution_count": 31,
   "metadata": {},
   "outputs": [
    {
     "data": {
      "text/plain": [
       "{'P_ud': 183.12068103240634,\n",
       " 'C_ud': 0.07361762449434377,\n",
       " 'G_v': 16.382638941087702}"
      ]
     },
     "execution_count": 31,
     "metadata": {},
     "output_type": "execute_result"
    }
   ],
   "source": [
    "TRDD.get_params_TRDD(init)"
   ]
  }
 ],
 "metadata": {
  "kernelspec": {
   "display_name": "Python 3.9.13 ('base')",
   "language": "python",
   "name": "python3"
  },
  "language_info": {
   "codemirror_mode": {
    "name": "ipython",
    "version": 3
   },
   "file_extension": ".py",
   "mimetype": "text/x-python",
   "name": "python",
   "nbconvert_exporter": "python",
   "pygments_lexer": "ipython3",
   "version": "3.9.13"
  },
  "orig_nbformat": 4,
  "vscode": {
   "interpreter": {
    "hash": "ad2bdc8ecc057115af97d19610ffacc2b4e99fae6737bb82f5d7fb13d2f2c186"
   }
  }
 },
 "nbformat": 4,
 "nbformat_minor": 2
}
